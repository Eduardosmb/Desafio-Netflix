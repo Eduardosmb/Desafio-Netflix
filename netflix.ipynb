{
 "cells": [
  {
   "cell_type": "code",
   "execution_count": 323,
   "metadata": {},
   "outputs": [],
   "source": [
    "import numpy as np\n",
    "import matplotlib.pyplot as plt\n",
    "import matplotlib.image as mpimg\n",
    "import pandas as pd\n",
    "from scipy.linalg import svd, diagsvd\n",
    "import random\n",
    "import copy"
   ]
  },
  {
   "attachments": {},
   "cell_type": "markdown",
   "metadata": {},
   "source": [
    "# Começo"
   ]
  },
  {
   "cell_type": "code",
   "execution_count": 324,
   "metadata": {},
   "outputs": [
    {
     "data": {
      "text/html": [
       "<div>\n",
       "<style scoped>\n",
       "    .dataframe tbody tr th:only-of-type {\n",
       "        vertical-align: middle;\n",
       "    }\n",
       "\n",
       "    .dataframe tbody tr th {\n",
       "        vertical-align: top;\n",
       "    }\n",
       "\n",
       "    .dataframe thead th {\n",
       "        text-align: right;\n",
       "    }\n",
       "</style>\n",
       "<table border=\"1\" class=\"dataframe\">\n",
       "  <thead>\n",
       "    <tr style=\"text-align: right;\">\n",
       "      <th></th>\n",
       "      <th>userId</th>\n",
       "      <th>movieId</th>\n",
       "      <th>rating</th>\n",
       "      <th>timestamp</th>\n",
       "    </tr>\n",
       "  </thead>\n",
       "  <tbody>\n",
       "    <tr>\n",
       "      <th>0</th>\n",
       "      <td>1</td>\n",
       "      <td>31</td>\n",
       "      <td>2.5</td>\n",
       "      <td>1260759144</td>\n",
       "    </tr>\n",
       "    <tr>\n",
       "      <th>1</th>\n",
       "      <td>1</td>\n",
       "      <td>1029</td>\n",
       "      <td>3.0</td>\n",
       "      <td>1260759179</td>\n",
       "    </tr>\n",
       "    <tr>\n",
       "      <th>2</th>\n",
       "      <td>1</td>\n",
       "      <td>1061</td>\n",
       "      <td>3.0</td>\n",
       "      <td>1260759182</td>\n",
       "    </tr>\n",
       "    <tr>\n",
       "      <th>3</th>\n",
       "      <td>1</td>\n",
       "      <td>1129</td>\n",
       "      <td>2.0</td>\n",
       "      <td>1260759185</td>\n",
       "    </tr>\n",
       "    <tr>\n",
       "      <th>4</th>\n",
       "      <td>1</td>\n",
       "      <td>1172</td>\n",
       "      <td>4.0</td>\n",
       "      <td>1260759205</td>\n",
       "    </tr>\n",
       "  </tbody>\n",
       "</table>\n",
       "</div>"
      ],
      "text/plain": [
       "   userId  movieId  rating   timestamp\n",
       "0       1       31     2.5  1260759144\n",
       "1       1     1029     3.0  1260759179\n",
       "2       1     1061     3.0  1260759182\n",
       "3       1     1129     2.0  1260759185\n",
       "4       1     1172     4.0  1260759205"
      ]
     },
     "execution_count": 324,
     "metadata": {},
     "output_type": "execute_result"
    }
   ],
   "source": [
    "#ler arquivo csv\n",
    "df = pd.read_csv('ratings_small.csv')\n",
    "df.head()"
   ]
  },
  {
   "cell_type": "code",
   "execution_count": 325,
   "metadata": {},
   "outputs": [
    {
     "name": "stdout",
     "output_type": "stream",
     "text": [
      "movieId  1       2       3       4       5       6       7       8        \n",
      "userId                                                                    \n",
      "1           2.5     2.5     2.5     2.5     2.5     2.5     2.5     2.5  \\\n",
      "2           2.5     2.5     2.5     2.5     2.5     2.5     2.5     2.5   \n",
      "3           2.5     2.5     2.5     2.5     2.5     2.5     2.5     2.5   \n",
      "4           2.5     2.5     2.5     2.5     2.5     2.5     2.5     2.5   \n",
      "5           2.5     2.5     4.0     2.5     2.5     2.5     2.5     2.5   \n",
      "...         ...     ...     ...     ...     ...     ...     ...     ...   \n",
      "667         2.5     2.5     2.5     2.5     2.5     4.0     2.5     2.5   \n",
      "668         2.5     2.5     2.5     2.5     2.5     2.5     2.5     2.5   \n",
      "669         2.5     2.5     2.5     2.5     2.5     2.5     2.5     2.5   \n",
      "670         4.0     2.5     2.5     2.5     2.5     2.5     2.5     2.5   \n",
      "671         5.0     2.5     2.5     2.5     2.5     2.5     2.5     2.5   \n",
      "\n",
      "movieId  9       10      ...  161084  161155  161594  161830  161918  161944   \n",
      "userId                   ...                                                   \n",
      "1           2.5     2.5  ...     2.5     2.5     2.5     2.5     2.5     2.5  \\\n",
      "2           2.5     4.0  ...     2.5     2.5     2.5     2.5     2.5     2.5   \n",
      "3           2.5     2.5  ...     2.5     2.5     2.5     2.5     2.5     2.5   \n",
      "4           2.5     4.0  ...     2.5     2.5     2.5     2.5     2.5     2.5   \n",
      "5           2.5     2.5  ...     2.5     2.5     2.5     2.5     2.5     2.5   \n",
      "...         ...     ...  ...     ...     ...     ...     ...     ...     ...   \n",
      "667         2.5     2.5  ...     2.5     2.5     2.5     2.5     2.5     2.5   \n",
      "668         2.5     2.5  ...     2.5     2.5     2.5     2.5     2.5     2.5   \n",
      "669         2.5     2.5  ...     2.5     2.5     2.5     2.5     2.5     2.5   \n",
      "670         2.5     2.5  ...     2.5     2.5     2.5     2.5     2.5     2.5   \n",
      "671         2.5     2.5  ...     2.5     2.5     2.5     2.5     2.5     2.5   \n",
      "\n",
      "movieId  162376  162542  162672  163949  \n",
      "userId                                   \n",
      "1           2.5     2.5     2.5     2.5  \n",
      "2           2.5     2.5     2.5     2.5  \n",
      "3           2.5     2.5     2.5     2.5  \n",
      "4           2.5     2.5     2.5     2.5  \n",
      "5           2.5     2.5     2.5     2.5  \n",
      "...         ...     ...     ...     ...  \n",
      "667         2.5     2.5     2.5     2.5  \n",
      "668         2.5     2.5     2.5     2.5  \n",
      "669         2.5     2.5     2.5     2.5  \n",
      "670         2.5     2.5     2.5     2.5  \n",
      "671         2.5     2.5     2.5     2.5  \n",
      "\n",
      "[671 rows x 9066 columns]\n"
     ]
    }
   ],
   "source": [
    "# criação da A\n",
    "A = pd.pivot_table(df, values='rating', index='userId', columns='movieId')\n",
    "\n",
    "# preenche valores faltantes com 2.5\n",
    "A = A.fillna(2.5)\n",
    "\n",
    "\n",
    "# exibição da A\n",
    "print(A)\n"
   ]
  },
  {
   "cell_type": "code",
   "execution_count": 326,
   "metadata": {},
   "outputs": [
    {
     "data": {
      "text/plain": [
       "array([[2.5, 2.5, 2.5, ..., 2.5, 2.5, 2.5],\n",
       "       [2.5, 2.5, 2.5, ..., 2.5, 2.5, 2.5],\n",
       "       [2.5, 2.5, 2.5, ..., 2.5, 2.5, 2.5],\n",
       "       ...,\n",
       "       [2.5, 2.5, 2.5, ..., 2.5, 2.5, 2.5],\n",
       "       [4. , 2.5, 2.5, ..., 2.5, 2.5, 2.5],\n",
       "       [5. , 2.5, 2.5, ..., 2.5, 2.5, 2.5]])"
      ]
     },
     "execution_count": 326,
     "metadata": {},
     "output_type": "execute_result"
    }
   ],
   "source": [
    "A = A.values\n",
    "A"
   ]
  },
  {
   "cell_type": "code",
   "execution_count": 330,
   "metadata": {},
   "outputs": [
    {
     "name": "stdout",
     "output_type": "stream",
     "text": [
      "1\n",
      "1.0820818954494098\n",
      "2\n",
      "0.6119962875186935\n",
      "3\n",
      "1.1719496751966256\n",
      "4\n",
      "1.2205303688506135\n",
      "5\n",
      "1.1708934108481583\n",
      "6\n",
      "1.3374188358503998\n",
      "7\n",
      "0.9833333379630034\n",
      "8\n",
      "1.229496617791653\n",
      "9\n",
      "1.1629641850812447\n",
      "10\n",
      "0.7321922530734765\n",
      "11\n",
      "1.5338791187015892\n",
      "12\n",
      "0.8064132517104265\n",
      "13\n",
      "0.802860029345158\n",
      "14\n",
      "1.25328053046498\n",
      "15\n",
      "0.8687952724141116\n",
      "16\n",
      "0.6500347702491751\n",
      "17\n",
      "0.9838959867436738\n",
      "18\n",
      "0.8752109984852193\n",
      "19\n",
      "0.9512603608093582\n",
      "20\n",
      "0.8479530885136091\n",
      "21\n",
      "1.069099409046908\n",
      "22\n",
      "0.9526390935318416\n",
      "23\n",
      "0.7226605984769137\n",
      "24\n",
      "1.1280821144467446\n",
      "25\n",
      "0.4902029986896942\n",
      "26\n",
      "1.2388691770912041\n",
      "27\n",
      "0.6185860598284216\n",
      "28\n",
      "1.0105273897243379\n",
      "29\n",
      "0.7514351214301945\n",
      "30\n",
      "0.7860335882593631\n",
      "31\n",
      "0.9385699897704338\n",
      "32\n",
      "0.8361692186472034\n",
      "33\n",
      "1.031983477411199\n",
      "34\n",
      "1.042862486165533\n",
      "35\n",
      "0.6688560841524435\n",
      "36\n",
      "0.6089949097463362\n",
      "37\n",
      "0.7395479053282437\n",
      "38\n",
      "0.9721245987040591\n",
      "39\n",
      "0.6627723783974917\n",
      "40\n",
      "0.869493197431356\n",
      "41\n",
      "1.0255244182021301\n",
      "42\n",
      "1.1151192560665062\n",
      "43\n",
      "0.8308396593689528\n",
      "44\n",
      "0.7096876173284128\n",
      "45\n",
      "0.9214808625789626\n",
      "46\n",
      "0.5863918425685248\n",
      "47\n",
      "0.5151043496479424\n",
      "48\n",
      "0.9398269643046158\n",
      "49\n",
      "0.7615990897471073\n",
      "50\n",
      "0.43788035775039563\n"
     ]
    }
   ],
   "source": [
    "dici = {}\n",
    "for u in range (50):\n",
    "    K = u+1\n",
    "    print(K)\n",
    "\n",
    "    lista_media_diff = np.array([])\n",
    "    for i in range(10):\n",
    "        num = 2.5\n",
    "        while True:\n",
    "            if num != 2.5:\n",
    "                break\n",
    "            else:\n",
    "                i,j = random.randint(0, A.shape[0]-1), random.randint(0, A.shape[1]-1)\n",
    "                num = A[i,j]\n",
    "    \n",
    "        B = copy.deepcopy(A)\n",
    "        B[i][j] = A[i][j]\n",
    "            \n",
    "            \n",
    "        u, s, vt = svd(B, full_matrices=False)\n",
    "    \n",
    "        \"\"\"Remove elementos de u, s e vt deixando somente K componentes restantes\n",
    "        \"\"\" \n",
    "        u_ = u[:,:K]\n",
    "        s_ = s[:K]\n",
    "        vt_ = vt[:K]\n",
    "    \n",
    "    \n",
    "        \"\"\"Recomenda um filme para um usuário baseado em sua avaliação\n",
    "        \"\"\" \n",
    "        sigma = diagsvd(s_, u_.shape[1], vt_.shape[0])\n",
    "        A_ = u_ @ sigma @ vt_\n",
    "    \n",
    "        diferenca = abs(A_[i][j] - A[i][j])\n",
    "        lista_media_diff = np.append(lista_media_diff, diferenca)\n",
    "        #calcula a média das diferenças\n",
    "    media_diff = np.mean(lista_media_diff)\n",
    "    dici[f'Media {K}'] = media_diff\n",
    "    print(dici[f'Media {K}'])\n",
    "    \n"
   ]
  },
  {
   "cell_type": "code",
   "execution_count": 331,
   "metadata": {},
   "outputs": [
    {
     "name": "stdout",
     "output_type": "stream",
     "text": [
      "{'Media 1': 1.0820818954494098, 'Media 2': 0.6119962875186935, 'Media 3': 1.1719496751966256, 'Media 4': 1.2205303688506135, 'Media 5': 1.1708934108481583, 'Media 6': 1.3374188358503998, 'Media 7': 0.9833333379630034, 'Media 8': 1.229496617791653, 'Media 9': 1.1629641850812447, 'Media 10': 0.7321922530734765, 'Media 11': 1.5338791187015892, 'Media 12': 0.8064132517104265, 'Media 13': 0.802860029345158, 'Media 14': 1.25328053046498, 'Media 15': 0.8687952724141116, 'Media 16': 0.6500347702491751, 'Media 17': 0.9838959867436738, 'Media 18': 0.8752109984852193, 'Media 19': 0.9512603608093582, 'Media 20': 0.8479530885136091, 'Media 21': 1.069099409046908, 'Media 22': 0.9526390935318416, 'Media 23': 0.7226605984769137, 'Media 24': 1.1280821144467446, 'Media 25': 0.4902029986896942, 'Media 26': 1.2388691770912041, 'Media 27': 0.6185860598284216, 'Media 28': 1.0105273897243379, 'Media 29': 0.7514351214301945, 'Media 30': 0.7860335882593631, 'Media 31': 0.9385699897704338, 'Media 32': 0.8361692186472034, 'Media 33': 1.031983477411199, 'Media 34': 1.042862486165533, 'Media 35': 0.6688560841524435, 'Media 36': 0.6089949097463362, 'Media 37': 0.7395479053282437, 'Media 38': 0.9721245987040591, 'Media 39': 0.6627723783974917, 'Media 40': 0.869493197431356, 'Media 41': 1.0255244182021301, 'Media 42': 1.1151192560665062, 'Media 43': 0.8308396593689528, 'Media 44': 0.7096876173284128, 'Media 45': 0.9214808625789626, 'Media 46': 0.5863918425685248, 'Media 47': 0.5151043496479424, 'Media 48': 0.9398269643046158, 'Media 49': 0.7615990897471073, 'Media 50': 0.43788035775039563}\n"
     ]
    }
   ],
   "source": [
    "print(dici)"
   ]
  },
  {
   "cell_type": "code",
   "execution_count": 332,
   "metadata": {},
   "outputs": [
    {
     "name": "stdout",
     "output_type": "stream",
     "text": [
      "O menor valor de erro é 0.43788035775039563 e o valor de K é Media 50\n"
     ]
    }
   ],
   "source": [
    "num = 1000\n",
    "k = 0\n",
    "for i in (dici):\n",
    "    if dici[i] < num:\n",
    "        num = dici[i]\n",
    "        k = i\n",
    "\n",
    "print(f'O menor valor de erro é {num} e o valor de K é {k}')\n"
   ]
  }
 ],
 "metadata": {
  "kernelspec": {
   "display_name": "Python 3",
   "language": "python",
   "name": "python3"
  },
  "language_info": {
   "codemirror_mode": {
    "name": "ipython",
    "version": 3
   },
   "file_extension": ".py",
   "mimetype": "text/x-python",
   "name": "python",
   "nbconvert_exporter": "python",
   "pygments_lexer": "ipython3",
   "version": "3.10.8"
  },
  "orig_nbformat": 4
 },
 "nbformat": 4,
 "nbformat_minor": 2
}
