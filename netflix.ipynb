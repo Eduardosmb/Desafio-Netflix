{
 "cells": [
  {
   "cell_type": "code",
   "execution_count": 289,
   "metadata": {},
   "outputs": [],
   "source": [
    "import numpy as np\n",
    "import matplotlib.pyplot as plt\n",
    "import matplotlib.image as mpimg\n",
    "import pandas as pd\n",
    "from scipy.linalg import svd, diagsvd\n",
    "import random\n",
    "import copy"
   ]
  },
  {
   "attachments": {},
   "cell_type": "markdown",
   "metadata": {},
   "source": [
    "# Começo"
   ]
  },
  {
   "cell_type": "code",
   "execution_count": 290,
   "metadata": {},
   "outputs": [
    {
     "data": {
      "text/html": [
       "<div>\n",
       "<style scoped>\n",
       "    .dataframe tbody tr th:only-of-type {\n",
       "        vertical-align: middle;\n",
       "    }\n",
       "\n",
       "    .dataframe tbody tr th {\n",
       "        vertical-align: top;\n",
       "    }\n",
       "\n",
       "    .dataframe thead th {\n",
       "        text-align: right;\n",
       "    }\n",
       "</style>\n",
       "<table border=\"1\" class=\"dataframe\">\n",
       "  <thead>\n",
       "    <tr style=\"text-align: right;\">\n",
       "      <th></th>\n",
       "      <th>userId</th>\n",
       "      <th>movieId</th>\n",
       "      <th>rating</th>\n",
       "      <th>timestamp</th>\n",
       "    </tr>\n",
       "  </thead>\n",
       "  <tbody>\n",
       "    <tr>\n",
       "      <th>0</th>\n",
       "      <td>1</td>\n",
       "      <td>31</td>\n",
       "      <td>2.5</td>\n",
       "      <td>1260759144</td>\n",
       "    </tr>\n",
       "    <tr>\n",
       "      <th>1</th>\n",
       "      <td>1</td>\n",
       "      <td>1029</td>\n",
       "      <td>3.0</td>\n",
       "      <td>1260759179</td>\n",
       "    </tr>\n",
       "    <tr>\n",
       "      <th>2</th>\n",
       "      <td>1</td>\n",
       "      <td>1061</td>\n",
       "      <td>3.0</td>\n",
       "      <td>1260759182</td>\n",
       "    </tr>\n",
       "    <tr>\n",
       "      <th>3</th>\n",
       "      <td>1</td>\n",
       "      <td>1129</td>\n",
       "      <td>2.0</td>\n",
       "      <td>1260759185</td>\n",
       "    </tr>\n",
       "    <tr>\n",
       "      <th>4</th>\n",
       "      <td>1</td>\n",
       "      <td>1172</td>\n",
       "      <td>4.0</td>\n",
       "      <td>1260759205</td>\n",
       "    </tr>\n",
       "  </tbody>\n",
       "</table>\n",
       "</div>"
      ],
      "text/plain": [
       "   userId  movieId  rating   timestamp\n",
       "0       1       31     2.5  1260759144\n",
       "1       1     1029     3.0  1260759179\n",
       "2       1     1061     3.0  1260759182\n",
       "3       1     1129     2.0  1260759185\n",
       "4       1     1172     4.0  1260759205"
      ]
     },
     "execution_count": 290,
     "metadata": {},
     "output_type": "execute_result"
    }
   ],
   "source": [
    "#ler arquivo csv\n",
    "df = pd.read_csv('ratings_small.csv')\n",
    "df.head()"
   ]
  },
  {
   "cell_type": "code",
   "execution_count": 291,
   "metadata": {},
   "outputs": [
    {
     "name": "stdout",
     "output_type": "stream",
     "text": [
      "movieId  1       2       3       4       5       6       7       8        \n",
      "userId                                                                    \n",
      "1           2.5     2.5     2.5     2.5     2.5     2.5     2.5     2.5  \\\n",
      "2           2.5     2.5     2.5     2.5     2.5     2.5     2.5     2.5   \n",
      "3           2.5     2.5     2.5     2.5     2.5     2.5     2.5     2.5   \n",
      "4           2.5     2.5     2.5     2.5     2.5     2.5     2.5     2.5   \n",
      "5           2.5     2.5     4.0     2.5     2.5     2.5     2.5     2.5   \n",
      "...         ...     ...     ...     ...     ...     ...     ...     ...   \n",
      "667         2.5     2.5     2.5     2.5     2.5     4.0     2.5     2.5   \n",
      "668         2.5     2.5     2.5     2.5     2.5     2.5     2.5     2.5   \n",
      "669         2.5     2.5     2.5     2.5     2.5     2.5     2.5     2.5   \n",
      "670         4.0     2.5     2.5     2.5     2.5     2.5     2.5     2.5   \n",
      "671         5.0     2.5     2.5     2.5     2.5     2.5     2.5     2.5   \n",
      "\n",
      "movieId  9       10      ...  161084  161155  161594  161830  161918  161944   \n",
      "userId                   ...                                                   \n",
      "1           2.5     2.5  ...     2.5     2.5     2.5     2.5     2.5     2.5  \\\n",
      "2           2.5     4.0  ...     2.5     2.5     2.5     2.5     2.5     2.5   \n",
      "3           2.5     2.5  ...     2.5     2.5     2.5     2.5     2.5     2.5   \n",
      "4           2.5     4.0  ...     2.5     2.5     2.5     2.5     2.5     2.5   \n",
      "5           2.5     2.5  ...     2.5     2.5     2.5     2.5     2.5     2.5   \n",
      "...         ...     ...  ...     ...     ...     ...     ...     ...     ...   \n",
      "667         2.5     2.5  ...     2.5     2.5     2.5     2.5     2.5     2.5   \n",
      "668         2.5     2.5  ...     2.5     2.5     2.5     2.5     2.5     2.5   \n",
      "669         2.5     2.5  ...     2.5     2.5     2.5     2.5     2.5     2.5   \n",
      "670         2.5     2.5  ...     2.5     2.5     2.5     2.5     2.5     2.5   \n",
      "671         2.5     2.5  ...     2.5     2.5     2.5     2.5     2.5     2.5   \n",
      "\n",
      "movieId  162376  162542  162672  163949  \n",
      "userId                                   \n",
      "1           2.5     2.5     2.5     2.5  \n",
      "2           2.5     2.5     2.5     2.5  \n",
      "3           2.5     2.5     2.5     2.5  \n",
      "4           2.5     2.5     2.5     2.5  \n",
      "5           2.5     2.5     2.5     2.5  \n",
      "...         ...     ...     ...     ...  \n",
      "667         2.5     2.5     2.5     2.5  \n",
      "668         2.5     2.5     2.5     2.5  \n",
      "669         2.5     2.5     2.5     2.5  \n",
      "670         2.5     2.5     2.5     2.5  \n",
      "671         2.5     2.5     2.5     2.5  \n",
      "\n",
      "[671 rows x 9066 columns]\n"
     ]
    }
   ],
   "source": [
    "# criação da A\n",
    "A = pd.pivot_table(df, values='rating', index='userId', columns='movieId')\n",
    "\n",
    "# preenche valores faltantes com 2.5\n",
    "A = A.fillna(2.5)\n",
    "\n",
    "\n",
    "# exibição da A\n",
    "print(A)\n"
   ]
  },
  {
   "cell_type": "code",
   "execution_count": 292,
   "metadata": {},
   "outputs": [
    {
     "data": {
      "text/plain": [
       "array([[2.5, 2.5, 2.5, ..., 2.5, 2.5, 2.5],\n",
       "       [2.5, 2.5, 2.5, ..., 2.5, 2.5, 2.5],\n",
       "       [2.5, 2.5, 2.5, ..., 2.5, 2.5, 2.5],\n",
       "       ...,\n",
       "       [2.5, 2.5, 2.5, ..., 2.5, 2.5, 2.5],\n",
       "       [4. , 2.5, 2.5, ..., 2.5, 2.5, 2.5],\n",
       "       [5. , 2.5, 2.5, ..., 2.5, 2.5, 2.5]])"
      ]
     },
     "execution_count": 292,
     "metadata": {},
     "output_type": "execute_result"
    }
   ],
   "source": [
    "A = A.values\n",
    "A"
   ]
  },
  {
   "cell_type": "code",
   "execution_count": 293,
   "metadata": {},
   "outputs": [
    {
     "name": "stdout",
     "output_type": "stream",
     "text": [
      "543 4597\n",
      "3.5\n"
     ]
    }
   ],
   "source": [
    "num = 2.5\n",
    "while True:\n",
    "    if num != 2.5:\n",
    "        print(i,j)\n",
    "        print(A[i,j])\n",
    "        break\n",
    "    else:\n",
    "        i,j = random.randint(0, A.shape[0]), random.randint(0, A.shape[1])\n",
    "        num = A[i,j]\n"
   ]
  },
  {
   "cell_type": "code",
   "execution_count": 294,
   "metadata": {},
   "outputs": [
    {
     "name": "stdout",
     "output_type": "stream",
     "text": [
      "0.6106199969304669\n",
      "1.2811187066648744\n",
      "1.8934436120954508\n",
      "2.2319445486726903\n",
      "0.6606361463603805\n",
      "0.8802848132723917\n",
      "0.2452243151554665\n",
      "0.8037876654731404\n",
      "2.407931333876079\n",
      "1.3239479708780468\n"
     ]
    }
   ],
   "source": [
    "for u in range(10):\n",
    "    lista_media_diff = []\n",
    "    \n",
    "    num = 2.5\n",
    "    while True:\n",
    "        if num != 2.5:\n",
    "            break\n",
    "        else:\n",
    "            i,j = random.randint(0, A.shape[0]-1), random.randint(0, A.shape[1]-1)\n",
    "            num = A[i,j]\n",
    "\n",
    "    K = 3\n",
    "    B = copy.deepcopy(A)\n",
    "    B[i][j] = A[i][j]\n",
    "        \n",
    "        \n",
    "    u, s, vt = svd(B, full_matrices=False)\n",
    "\n",
    "    \"\"\"Remove elementos de u, s e vt deixando somente K componentes restantes\n",
    "    \"\"\" \n",
    "    u_ = u[:,:K]\n",
    "    s_ = s[:K]\n",
    "    vt_ = vt[:K]\n",
    "\n",
    "\n",
    "    \"\"\"Recomenda um filme para um usuário baseado em sua avaliação\n",
    "    \"\"\" \n",
    "    sigma = diagsvd(s_, u_.shape[1], vt_.shape[0])\n",
    "    A_ = u_ @ sigma @ vt_\n",
    "\n",
    "    diferenca = abs(A_[i][j] - A[i][j])\n",
    "    print(diferenca)\n",
    "    "
   ]
  },
  {
   "cell_type": "code",
   "execution_count": 295,
   "metadata": {},
   "outputs": [
    {
     "name": "stdout",
     "output_type": "stream",
     "text": [
      "Elemento real\n",
      "3.0\n",
      "Elemento falso\n",
      "1.0\n",
      "Elemento recomentado\n",
      "2.834057062840521\n",
      "K\n",
      "4\n"
     ]
    }
   ],
   "source": [
    "K = 4\n",
    "i = 72\n",
    "j = 6426\n",
    "# i,j = random.randint(0, A.shape[0]), random.randint(0, A.shape[1])\n",
    "B = copy.deepcopy(A)\n",
    "B[i][j] = 1\n",
    "    \n",
    "    \n",
    "u, s, vt = svd(B, full_matrices=False)\n",
    "\"\"\"Remove elementos de u, s e vt deixando somente K componentes restantes\n",
    "\"\"\" \n",
    "u_ = u[:,:K]\n",
    "s_ = s[:K]\n",
    "vt_ = vt[:K]\n",
    "\"\"\"Recomenda um filme para um usuário baseado em sua avaliação\n",
    "\"\"\" \n",
    "sigma = diagsvd(s_, u_.shape[1], vt_.shape[0])\n",
    "A_ = u_ @ sigma @ vt_\n",
    "print('Elemento real')\n",
    "print(A[i][j])\n",
    "print('Elemento falso')\n",
    "print(B[i][j])\n",
    "print('Elemento recomentado')\n",
    "print(A_[i][j])\n",
    "print('K')\n",
    "print(K)\n"
   ]
  },
  {
   "cell_type": "code",
   "execution_count": 296,
   "metadata": {},
   "outputs": [
    {
     "name": "stdout",
     "output_type": "stream",
     "text": [
      "Elemento real\n",
      "5.0\n",
      "Elemento falso\n",
      "1.0\n",
      "Elemento recomentado\n",
      "2.8311768681270517\n",
      "K\n",
      "4\n"
     ]
    }
   ],
   "source": [
    "K = 4\n",
    "i = 185\n",
    "j = 3367\n",
    "# i,j = random.randint(0, A.shape[0]), random.randint(0, A.shape[1])\n",
    "B = copy.deepcopy(A)\n",
    "B[i][j] = 1\n",
    "    \n",
    "    \n",
    "u, s, vt = svd(B, full_matrices=False)\n",
    "\"\"\"Remove elementos de u, s e vt deixando somente K componentes restantes\n",
    "\"\"\" \n",
    "u_ = u[:,:K]\n",
    "s_ = s[:K]\n",
    "vt_ = vt[:K]\n",
    "\"\"\"Recomenda um filme para um usuário baseado em sua avaliação\n",
    "\"\"\" \n",
    "sigma = diagsvd(s_, u_.shape[1], vt_.shape[0])\n",
    "A_ = u_ @ sigma @ vt_\n",
    "print('Elemento real')\n",
    "print(A[i][j])\n",
    "print('Elemento falso')\n",
    "print(B[i][j])\n",
    "print('Elemento recomentado')\n",
    "print(A_[i][j])\n",
    "print('K')\n",
    "print(K)\n"
   ]
  }
 ],
 "metadata": {
  "kernelspec": {
   "display_name": "Python 3",
   "language": "python",
   "name": "python3"
  },
  "language_info": {
   "codemirror_mode": {
    "name": "ipython",
    "version": 3
   },
   "file_extension": ".py",
   "mimetype": "text/x-python",
   "name": "python",
   "nbconvert_exporter": "python",
   "pygments_lexer": "ipython3",
   "version": "3.10.8"
  },
  "orig_nbformat": 4
 },
 "nbformat": 4,
 "nbformat_minor": 2
}
